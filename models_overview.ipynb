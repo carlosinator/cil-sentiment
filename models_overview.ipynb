{
  "nbformat": 4,
  "nbformat_minor": 0,
  "metadata": {
    "colab": {
      "provenance": [],
      "machine_shape": "hm",
      "gpuType": "V100",
      "include_colab_link": true
    },
    "kernelspec": {
      "name": "python3",
      "display_name": "Python 3"
    },
    "language_info": {
      "name": "python"
    },
    "accelerator": "GPU",
    "widgets": {
      "application/vnd.jupyter.widget-state+json": {
        "8947c1b4387948d796e2d999e4568379": {
          "model_module": "@jupyter-widgets/controls",
          "model_name": "HBoxModel",
          "model_module_version": "1.5.0",
          "state": {
            "_dom_classes": [],
            "_model_module": "@jupyter-widgets/controls",
            "_model_module_version": "1.5.0",
            "_model_name": "HBoxModel",
            "_view_count": null,
            "_view_module": "@jupyter-widgets/controls",
            "_view_module_version": "1.5.0",
            "_view_name": "HBoxView",
            "box_style": "",
            "children": [
              "IPY_MODEL_7541749b046a46e38f898b83934881ba",
              "IPY_MODEL_767593c503a84f138bf95f0edeaeb12c",
              "IPY_MODEL_9da3a598232e4b809cee7a5b203c5565"
            ],
            "layout": "IPY_MODEL_6e1fa8c8072a46a382677c8755a32c38"
          }
        },
        "7541749b046a46e38f898b83934881ba": {
          "model_module": "@jupyter-widgets/controls",
          "model_name": "HTMLModel",
          "model_module_version": "1.5.0",
          "state": {
            "_dom_classes": [],
            "_model_module": "@jupyter-widgets/controls",
            "_model_module_version": "1.5.0",
            "_model_name": "HTMLModel",
            "_view_count": null,
            "_view_module": "@jupyter-widgets/controls",
            "_view_module_version": "1.5.0",
            "_view_name": "HTMLView",
            "description": "",
            "description_tooltip": null,
            "layout": "IPY_MODEL_7ae45397417d46a4963e80ee86501deb",
            "placeholder": "​",
            "style": "IPY_MODEL_e22d984acb654b14a8a5631e6c45db06",
            "value": "Downloading (…)lve/main/config.json: 100%"
          }
        },
        "767593c503a84f138bf95f0edeaeb12c": {
          "model_module": "@jupyter-widgets/controls",
          "model_name": "FloatProgressModel",
          "model_module_version": "1.5.0",
          "state": {
            "_dom_classes": [],
            "_model_module": "@jupyter-widgets/controls",
            "_model_module_version": "1.5.0",
            "_model_name": "FloatProgressModel",
            "_view_count": null,
            "_view_module": "@jupyter-widgets/controls",
            "_view_module_version": "1.5.0",
            "_view_name": "ProgressView",
            "bar_style": "success",
            "description": "",
            "description_tooltip": null,
            "layout": "IPY_MODEL_ac2204ab305d4025b49ff82e956e1555",
            "max": 558,
            "min": 0,
            "orientation": "horizontal",
            "style": "IPY_MODEL_ee97917fcf564c90a6c37a5b0f0970f1",
            "value": 558
          }
        },
        "9da3a598232e4b809cee7a5b203c5565": {
          "model_module": "@jupyter-widgets/controls",
          "model_name": "HTMLModel",
          "model_module_version": "1.5.0",
          "state": {
            "_dom_classes": [],
            "_model_module": "@jupyter-widgets/controls",
            "_model_module_version": "1.5.0",
            "_model_name": "HTMLModel",
            "_view_count": null,
            "_view_module": "@jupyter-widgets/controls",
            "_view_module_version": "1.5.0",
            "_view_name": "HTMLView",
            "description": "",
            "description_tooltip": null,
            "layout": "IPY_MODEL_b4753ac0b3fc487d9c311cbe1655309f",
            "placeholder": "​",
            "style": "IPY_MODEL_76a63b808f9a474fac88328f50461b53",
            "value": " 558/558 [00:00&lt;00:00, 49.1kB/s]"
          }
        },
        "6e1fa8c8072a46a382677c8755a32c38": {
          "model_module": "@jupyter-widgets/base",
          "model_name": "LayoutModel",
          "model_module_version": "1.2.0",
          "state": {
            "_model_module": "@jupyter-widgets/base",
            "_model_module_version": "1.2.0",
            "_model_name": "LayoutModel",
            "_view_count": null,
            "_view_module": "@jupyter-widgets/base",
            "_view_module_version": "1.2.0",
            "_view_name": "LayoutView",
            "align_content": null,
            "align_items": null,
            "align_self": null,
            "border": null,
            "bottom": null,
            "display": null,
            "flex": null,
            "flex_flow": null,
            "grid_area": null,
            "grid_auto_columns": null,
            "grid_auto_flow": null,
            "grid_auto_rows": null,
            "grid_column": null,
            "grid_gap": null,
            "grid_row": null,
            "grid_template_areas": null,
            "grid_template_columns": null,
            "grid_template_rows": null,
            "height": null,
            "justify_content": null,
            "justify_items": null,
            "left": null,
            "margin": null,
            "max_height": null,
            "max_width": null,
            "min_height": null,
            "min_width": null,
            "object_fit": null,
            "object_position": null,
            "order": null,
            "overflow": null,
            "overflow_x": null,
            "overflow_y": null,
            "padding": null,
            "right": null,
            "top": null,
            "visibility": null,
            "width": null
          }
        },
        "7ae45397417d46a4963e80ee86501deb": {
          "model_module": "@jupyter-widgets/base",
          "model_name": "LayoutModel",
          "model_module_version": "1.2.0",
          "state": {
            "_model_module": "@jupyter-widgets/base",
            "_model_module_version": "1.2.0",
            "_model_name": "LayoutModel",
            "_view_count": null,
            "_view_module": "@jupyter-widgets/base",
            "_view_module_version": "1.2.0",
            "_view_name": "LayoutView",
            "align_content": null,
            "align_items": null,
            "align_self": null,
            "border": null,
            "bottom": null,
            "display": null,
            "flex": null,
            "flex_flow": null,
            "grid_area": null,
            "grid_auto_columns": null,
            "grid_auto_flow": null,
            "grid_auto_rows": null,
            "grid_column": null,
            "grid_gap": null,
            "grid_row": null,
            "grid_template_areas": null,
            "grid_template_columns": null,
            "grid_template_rows": null,
            "height": null,
            "justify_content": null,
            "justify_items": null,
            "left": null,
            "margin": null,
            "max_height": null,
            "max_width": null,
            "min_height": null,
            "min_width": null,
            "object_fit": null,
            "object_position": null,
            "order": null,
            "overflow": null,
            "overflow_x": null,
            "overflow_y": null,
            "padding": null,
            "right": null,
            "top": null,
            "visibility": null,
            "width": null
          }
        },
        "e22d984acb654b14a8a5631e6c45db06": {
          "model_module": "@jupyter-widgets/controls",
          "model_name": "DescriptionStyleModel",
          "model_module_version": "1.5.0",
          "state": {
            "_model_module": "@jupyter-widgets/controls",
            "_model_module_version": "1.5.0",
            "_model_name": "DescriptionStyleModel",
            "_view_count": null,
            "_view_module": "@jupyter-widgets/base",
            "_view_module_version": "1.2.0",
            "_view_name": "StyleView",
            "description_width": ""
          }
        },
        "ac2204ab305d4025b49ff82e956e1555": {
          "model_module": "@jupyter-widgets/base",
          "model_name": "LayoutModel",
          "model_module_version": "1.2.0",
          "state": {
            "_model_module": "@jupyter-widgets/base",
            "_model_module_version": "1.2.0",
            "_model_name": "LayoutModel",
            "_view_count": null,
            "_view_module": "@jupyter-widgets/base",
            "_view_module_version": "1.2.0",
            "_view_name": "LayoutView",
            "align_content": null,
            "align_items": null,
            "align_self": null,
            "border": null,
            "bottom": null,
            "display": null,
            "flex": null,
            "flex_flow": null,
            "grid_area": null,
            "grid_auto_columns": null,
            "grid_auto_flow": null,
            "grid_auto_rows": null,
            "grid_column": null,
            "grid_gap": null,
            "grid_row": null,
            "grid_template_areas": null,
            "grid_template_columns": null,
            "grid_template_rows": null,
            "height": null,
            "justify_content": null,
            "justify_items": null,
            "left": null,
            "margin": null,
            "max_height": null,
            "max_width": null,
            "min_height": null,
            "min_width": null,
            "object_fit": null,
            "object_position": null,
            "order": null,
            "overflow": null,
            "overflow_x": null,
            "overflow_y": null,
            "padding": null,
            "right": null,
            "top": null,
            "visibility": null,
            "width": null
          }
        },
        "ee97917fcf564c90a6c37a5b0f0970f1": {
          "model_module": "@jupyter-widgets/controls",
          "model_name": "ProgressStyleModel",
          "model_module_version": "1.5.0",
          "state": {
            "_model_module": "@jupyter-widgets/controls",
            "_model_module_version": "1.5.0",
            "_model_name": "ProgressStyleModel",
            "_view_count": null,
            "_view_module": "@jupyter-widgets/base",
            "_view_module_version": "1.2.0",
            "_view_name": "StyleView",
            "bar_color": null,
            "description_width": ""
          }
        },
        "b4753ac0b3fc487d9c311cbe1655309f": {
          "model_module": "@jupyter-widgets/base",
          "model_name": "LayoutModel",
          "model_module_version": "1.2.0",
          "state": {
            "_model_module": "@jupyter-widgets/base",
            "_model_module_version": "1.2.0",
            "_model_name": "LayoutModel",
            "_view_count": null,
            "_view_module": "@jupyter-widgets/base",
            "_view_module_version": "1.2.0",
            "_view_name": "LayoutView",
            "align_content": null,
            "align_items": null,
            "align_self": null,
            "border": null,
            "bottom": null,
            "display": null,
            "flex": null,
            "flex_flow": null,
            "grid_area": null,
            "grid_auto_columns": null,
            "grid_auto_flow": null,
            "grid_auto_rows": null,
            "grid_column": null,
            "grid_gap": null,
            "grid_row": null,
            "grid_template_areas": null,
            "grid_template_columns": null,
            "grid_template_rows": null,
            "height": null,
            "justify_content": null,
            "justify_items": null,
            "left": null,
            "margin": null,
            "max_height": null,
            "max_width": null,
            "min_height": null,
            "min_width": null,
            "object_fit": null,
            "object_position": null,
            "order": null,
            "overflow": null,
            "overflow_x": null,
            "overflow_y": null,
            "padding": null,
            "right": null,
            "top": null,
            "visibility": null,
            "width": null
          }
        },
        "76a63b808f9a474fac88328f50461b53": {
          "model_module": "@jupyter-widgets/controls",
          "model_name": "DescriptionStyleModel",
          "model_module_version": "1.5.0",
          "state": {
            "_model_module": "@jupyter-widgets/controls",
            "_model_module_version": "1.5.0",
            "_model_name": "DescriptionStyleModel",
            "_view_count": null,
            "_view_module": "@jupyter-widgets/base",
            "_view_module_version": "1.2.0",
            "_view_name": "StyleView",
            "description_width": ""
          }
        },
        "4b1bef19082c4947af527b79832427cc": {
          "model_module": "@jupyter-widgets/controls",
          "model_name": "HBoxModel",
          "model_module_version": "1.5.0",
          "state": {
            "_dom_classes": [],
            "_model_module": "@jupyter-widgets/controls",
            "_model_module_version": "1.5.0",
            "_model_name": "HBoxModel",
            "_view_count": null,
            "_view_module": "@jupyter-widgets/controls",
            "_view_module_version": "1.5.0",
            "_view_name": "HBoxView",
            "box_style": "",
            "children": [
              "IPY_MODEL_4aad948af6ae4fbb8e29c99780c0d33e",
              "IPY_MODEL_d56994ad40dd49059b578bf5ea04fe38",
              "IPY_MODEL_90a5e5528ae9431388b4bf5dbba080f1"
            ],
            "layout": "IPY_MODEL_ffda5b171ed449e0b89872a4e2c1c8f1"
          }
        },
        "4aad948af6ae4fbb8e29c99780c0d33e": {
          "model_module": "@jupyter-widgets/controls",
          "model_name": "HTMLModel",
          "model_module_version": "1.5.0",
          "state": {
            "_dom_classes": [],
            "_model_module": "@jupyter-widgets/controls",
            "_model_module_version": "1.5.0",
            "_model_name": "HTMLModel",
            "_view_count": null,
            "_view_module": "@jupyter-widgets/controls",
            "_view_module_version": "1.5.0",
            "_view_name": "HTMLView",
            "description": "",
            "description_tooltip": null,
            "layout": "IPY_MODEL_658c2caec925448bb11d5c34e12816f6",
            "placeholder": "​",
            "style": "IPY_MODEL_7b5320cb26f84910956480c96e07ef65",
            "value": "Downloading (…)solve/main/vocab.txt: 100%"
          }
        },
        "d56994ad40dd49059b578bf5ea04fe38": {
          "model_module": "@jupyter-widgets/controls",
          "model_name": "FloatProgressModel",
          "model_module_version": "1.5.0",
          "state": {
            "_dom_classes": [],
            "_model_module": "@jupyter-widgets/controls",
            "_model_module_version": "1.5.0",
            "_model_name": "FloatProgressModel",
            "_view_count": null,
            "_view_module": "@jupyter-widgets/controls",
            "_view_module_version": "1.5.0",
            "_view_name": "ProgressView",
            "bar_style": "success",
            "description": "",
            "description_tooltip": null,
            "layout": "IPY_MODEL_a06e9b68fcbd45bb943470c248dc48c9",
            "max": 843438,
            "min": 0,
            "orientation": "horizontal",
            "style": "IPY_MODEL_0d48480d6e144533a7b2e87957b890a5",
            "value": 843438
          }
        },
        "90a5e5528ae9431388b4bf5dbba080f1": {
          "model_module": "@jupyter-widgets/controls",
          "model_name": "HTMLModel",
          "model_module_version": "1.5.0",
          "state": {
            "_dom_classes": [],
            "_model_module": "@jupyter-widgets/controls",
            "_model_module_version": "1.5.0",
            "_model_name": "HTMLModel",
            "_view_count": null,
            "_view_module": "@jupyter-widgets/controls",
            "_view_module_version": "1.5.0",
            "_view_name": "HTMLView",
            "description": "",
            "description_tooltip": null,
            "layout": "IPY_MODEL_cdead52bf84c41e4ab2c71f7e4a94799",
            "placeholder": "​",
            "style": "IPY_MODEL_8e0d98e1b2274913b389be5ebe508c31",
            "value": " 843k/843k [00:00&lt;00:00, 2.58MB/s]"
          }
        },
        "ffda5b171ed449e0b89872a4e2c1c8f1": {
          "model_module": "@jupyter-widgets/base",
          "model_name": "LayoutModel",
          "model_module_version": "1.2.0",
          "state": {
            "_model_module": "@jupyter-widgets/base",
            "_model_module_version": "1.2.0",
            "_model_name": "LayoutModel",
            "_view_count": null,
            "_view_module": "@jupyter-widgets/base",
            "_view_module_version": "1.2.0",
            "_view_name": "LayoutView",
            "align_content": null,
            "align_items": null,
            "align_self": null,
            "border": null,
            "bottom": null,
            "display": null,
            "flex": null,
            "flex_flow": null,
            "grid_area": null,
            "grid_auto_columns": null,
            "grid_auto_flow": null,
            "grid_auto_rows": null,
            "grid_column": null,
            "grid_gap": null,
            "grid_row": null,
            "grid_template_areas": null,
            "grid_template_columns": null,
            "grid_template_rows": null,
            "height": null,
            "justify_content": null,
            "justify_items": null,
            "left": null,
            "margin": null,
            "max_height": null,
            "max_width": null,
            "min_height": null,
            "min_width": null,
            "object_fit": null,
            "object_position": null,
            "order": null,
            "overflow": null,
            "overflow_x": null,
            "overflow_y": null,
            "padding": null,
            "right": null,
            "top": null,
            "visibility": null,
            "width": null
          }
        },
        "658c2caec925448bb11d5c34e12816f6": {
          "model_module": "@jupyter-widgets/base",
          "model_name": "LayoutModel",
          "model_module_version": "1.2.0",
          "state": {
            "_model_module": "@jupyter-widgets/base",
            "_model_module_version": "1.2.0",
            "_model_name": "LayoutModel",
            "_view_count": null,
            "_view_module": "@jupyter-widgets/base",
            "_view_module_version": "1.2.0",
            "_view_name": "LayoutView",
            "align_content": null,
            "align_items": null,
            "align_self": null,
            "border": null,
            "bottom": null,
            "display": null,
            "flex": null,
            "flex_flow": null,
            "grid_area": null,
            "grid_auto_columns": null,
            "grid_auto_flow": null,
            "grid_auto_rows": null,
            "grid_column": null,
            "grid_gap": null,
            "grid_row": null,
            "grid_template_areas": null,
            "grid_template_columns": null,
            "grid_template_rows": null,
            "height": null,
            "justify_content": null,
            "justify_items": null,
            "left": null,
            "margin": null,
            "max_height": null,
            "max_width": null,
            "min_height": null,
            "min_width": null,
            "object_fit": null,
            "object_position": null,
            "order": null,
            "overflow": null,
            "overflow_x": null,
            "overflow_y": null,
            "padding": null,
            "right": null,
            "top": null,
            "visibility": null,
            "width": null
          }
        },
        "7b5320cb26f84910956480c96e07ef65": {
          "model_module": "@jupyter-widgets/controls",
          "model_name": "DescriptionStyleModel",
          "model_module_version": "1.5.0",
          "state": {
            "_model_module": "@jupyter-widgets/controls",
            "_model_module_version": "1.5.0",
            "_model_name": "DescriptionStyleModel",
            "_view_count": null,
            "_view_module": "@jupyter-widgets/base",
            "_view_module_version": "1.2.0",
            "_view_name": "StyleView",
            "description_width": ""
          }
        },
        "a06e9b68fcbd45bb943470c248dc48c9": {
          "model_module": "@jupyter-widgets/base",
          "model_name": "LayoutModel",
          "model_module_version": "1.2.0",
          "state": {
            "_model_module": "@jupyter-widgets/base",
            "_model_module_version": "1.2.0",
            "_model_name": "LayoutModel",
            "_view_count": null,
            "_view_module": "@jupyter-widgets/base",
            "_view_module_version": "1.2.0",
            "_view_name": "LayoutView",
            "align_content": null,
            "align_items": null,
            "align_self": null,
            "border": null,
            "bottom": null,
            "display": null,
            "flex": null,
            "flex_flow": null,
            "grid_area": null,
            "grid_auto_columns": null,
            "grid_auto_flow": null,
            "grid_auto_rows": null,
            "grid_column": null,
            "grid_gap": null,
            "grid_row": null,
            "grid_template_areas": null,
            "grid_template_columns": null,
            "grid_template_rows": null,
            "height": null,
            "justify_content": null,
            "justify_items": null,
            "left": null,
            "margin": null,
            "max_height": null,
            "max_width": null,
            "min_height": null,
            "min_width": null,
            "object_fit": null,
            "object_position": null,
            "order": null,
            "overflow": null,
            "overflow_x": null,
            "overflow_y": null,
            "padding": null,
            "right": null,
            "top": null,
            "visibility": null,
            "width": null
          }
        },
        "0d48480d6e144533a7b2e87957b890a5": {
          "model_module": "@jupyter-widgets/controls",
          "model_name": "ProgressStyleModel",
          "model_module_version": "1.5.0",
          "state": {
            "_model_module": "@jupyter-widgets/controls",
            "_model_module_version": "1.5.0",
            "_model_name": "ProgressStyleModel",
            "_view_count": null,
            "_view_module": "@jupyter-widgets/base",
            "_view_module_version": "1.2.0",
            "_view_name": "StyleView",
            "bar_color": null,
            "description_width": ""
          }
        },
        "cdead52bf84c41e4ab2c71f7e4a94799": {
          "model_module": "@jupyter-widgets/base",
          "model_name": "LayoutModel",
          "model_module_version": "1.2.0",
          "state": {
            "_model_module": "@jupyter-widgets/base",
            "_model_module_version": "1.2.0",
            "_model_name": "LayoutModel",
            "_view_count": null,
            "_view_module": "@jupyter-widgets/base",
            "_view_module_version": "1.2.0",
            "_view_name": "LayoutView",
            "align_content": null,
            "align_items": null,
            "align_self": null,
            "border": null,
            "bottom": null,
            "display": null,
            "flex": null,
            "flex_flow": null,
            "grid_area": null,
            "grid_auto_columns": null,
            "grid_auto_flow": null,
            "grid_auto_rows": null,
            "grid_column": null,
            "grid_gap": null,
            "grid_row": null,
            "grid_template_areas": null,
            "grid_template_columns": null,
            "grid_template_rows": null,
            "height": null,
            "justify_content": null,
            "justify_items": null,
            "left": null,
            "margin": null,
            "max_height": null,
            "max_width": null,
            "min_height": null,
            "min_width": null,
            "object_fit": null,
            "object_position": null,
            "order": null,
            "overflow": null,
            "overflow_x": null,
            "overflow_y": null,
            "padding": null,
            "right": null,
            "top": null,
            "visibility": null,
            "width": null
          }
        },
        "8e0d98e1b2274913b389be5ebe508c31": {
          "model_module": "@jupyter-widgets/controls",
          "model_name": "DescriptionStyleModel",
          "model_module_version": "1.5.0",
          "state": {
            "_model_module": "@jupyter-widgets/controls",
            "_model_module_version": "1.5.0",
            "_model_name": "DescriptionStyleModel",
            "_view_count": null,
            "_view_module": "@jupyter-widgets/base",
            "_view_module_version": "1.2.0",
            "_view_name": "StyleView",
            "description_width": ""
          }
        },
        "dbe753e69f894a33a2a8ca6bbec19474": {
          "model_module": "@jupyter-widgets/controls",
          "model_name": "HBoxModel",
          "model_module_version": "1.5.0",
          "state": {
            "_dom_classes": [],
            "_model_module": "@jupyter-widgets/controls",
            "_model_module_version": "1.5.0",
            "_model_name": "HBoxModel",
            "_view_count": null,
            "_view_module": "@jupyter-widgets/controls",
            "_view_module_version": "1.5.0",
            "_view_name": "HBoxView",
            "box_style": "",
            "children": [
              "IPY_MODEL_434324155a9844848a1d50409cf4fdf2",
              "IPY_MODEL_b9f6b445a4b142a4bd1e89d5f5f8d734",
              "IPY_MODEL_edfae3a422ac47039d845bb769fa8ff5"
            ],
            "layout": "IPY_MODEL_c1f98a8ff70d44c8995e345443643d06"
          }
        },
        "434324155a9844848a1d50409cf4fdf2": {
          "model_module": "@jupyter-widgets/controls",
          "model_name": "HTMLModel",
          "model_module_version": "1.5.0",
          "state": {
            "_dom_classes": [],
            "_model_module": "@jupyter-widgets/controls",
            "_model_module_version": "1.5.0",
            "_model_name": "HTMLModel",
            "_view_count": null,
            "_view_module": "@jupyter-widgets/controls",
            "_view_module_version": "1.5.0",
            "_view_name": "HTMLView",
            "description": "",
            "description_tooltip": null,
            "layout": "IPY_MODEL_1765705c05904131b3d93c40c769b245",
            "placeholder": "​",
            "style": "IPY_MODEL_a73d9d7a3db14c7a84e001bed4365ab1",
            "value": "Downloading (…)solve/main/bpe.codes: 100%"
          }
        },
        "b9f6b445a4b142a4bd1e89d5f5f8d734": {
          "model_module": "@jupyter-widgets/controls",
          "model_name": "FloatProgressModel",
          "model_module_version": "1.5.0",
          "state": {
            "_dom_classes": [],
            "_model_module": "@jupyter-widgets/controls",
            "_model_module_version": "1.5.0",
            "_model_name": "FloatProgressModel",
            "_view_count": null,
            "_view_module": "@jupyter-widgets/controls",
            "_view_module_version": "1.5.0",
            "_view_name": "ProgressView",
            "bar_style": "success",
            "description": "",
            "description_tooltip": null,
            "layout": "IPY_MODEL_9e2d7bce443d4d9d8460834722fa1a2e",
            "max": 1078931,
            "min": 0,
            "orientation": "horizontal",
            "style": "IPY_MODEL_e6c25271d25e49cd84d26d4fbb40e491",
            "value": 1078931
          }
        },
        "edfae3a422ac47039d845bb769fa8ff5": {
          "model_module": "@jupyter-widgets/controls",
          "model_name": "HTMLModel",
          "model_module_version": "1.5.0",
          "state": {
            "_dom_classes": [],
            "_model_module": "@jupyter-widgets/controls",
            "_model_module_version": "1.5.0",
            "_model_name": "HTMLModel",
            "_view_count": null,
            "_view_module": "@jupyter-widgets/controls",
            "_view_module_version": "1.5.0",
            "_view_name": "HTMLView",
            "description": "",
            "description_tooltip": null,
            "layout": "IPY_MODEL_36d3ced4aa8248268b5fad57f6ff0520",
            "placeholder": "​",
            "style": "IPY_MODEL_b7e761d48b8b4bbea4fe990c722beb19",
            "value": " 1.08M/1.08M [00:00&lt;00:00, 12.9MB/s]"
          }
        },
        "c1f98a8ff70d44c8995e345443643d06": {
          "model_module": "@jupyter-widgets/base",
          "model_name": "LayoutModel",
          "model_module_version": "1.2.0",
          "state": {
            "_model_module": "@jupyter-widgets/base",
            "_model_module_version": "1.2.0",
            "_model_name": "LayoutModel",
            "_view_count": null,
            "_view_module": "@jupyter-widgets/base",
            "_view_module_version": "1.2.0",
            "_view_name": "LayoutView",
            "align_content": null,
            "align_items": null,
            "align_self": null,
            "border": null,
            "bottom": null,
            "display": null,
            "flex": null,
            "flex_flow": null,
            "grid_area": null,
            "grid_auto_columns": null,
            "grid_auto_flow": null,
            "grid_auto_rows": null,
            "grid_column": null,
            "grid_gap": null,
            "grid_row": null,
            "grid_template_areas": null,
            "grid_template_columns": null,
            "grid_template_rows": null,
            "height": null,
            "justify_content": null,
            "justify_items": null,
            "left": null,
            "margin": null,
            "max_height": null,
            "max_width": null,
            "min_height": null,
            "min_width": null,
            "object_fit": null,
            "object_position": null,
            "order": null,
            "overflow": null,
            "overflow_x": null,
            "overflow_y": null,
            "padding": null,
            "right": null,
            "top": null,
            "visibility": null,
            "width": null
          }
        },
        "1765705c05904131b3d93c40c769b245": {
          "model_module": "@jupyter-widgets/base",
          "model_name": "LayoutModel",
          "model_module_version": "1.2.0",
          "state": {
            "_model_module": "@jupyter-widgets/base",
            "_model_module_version": "1.2.0",
            "_model_name": "LayoutModel",
            "_view_count": null,
            "_view_module": "@jupyter-widgets/base",
            "_view_module_version": "1.2.0",
            "_view_name": "LayoutView",
            "align_content": null,
            "align_items": null,
            "align_self": null,
            "border": null,
            "bottom": null,
            "display": null,
            "flex": null,
            "flex_flow": null,
            "grid_area": null,
            "grid_auto_columns": null,
            "grid_auto_flow": null,
            "grid_auto_rows": null,
            "grid_column": null,
            "grid_gap": null,
            "grid_row": null,
            "grid_template_areas": null,
            "grid_template_columns": null,
            "grid_template_rows": null,
            "height": null,
            "justify_content": null,
            "justify_items": null,
            "left": null,
            "margin": null,
            "max_height": null,
            "max_width": null,
            "min_height": null,
            "min_width": null,
            "object_fit": null,
            "object_position": null,
            "order": null,
            "overflow": null,
            "overflow_x": null,
            "overflow_y": null,
            "padding": null,
            "right": null,
            "top": null,
            "visibility": null,
            "width": null
          }
        },
        "a73d9d7a3db14c7a84e001bed4365ab1": {
          "model_module": "@jupyter-widgets/controls",
          "model_name": "DescriptionStyleModel",
          "model_module_version": "1.5.0",
          "state": {
            "_model_module": "@jupyter-widgets/controls",
            "_model_module_version": "1.5.0",
            "_model_name": "DescriptionStyleModel",
            "_view_count": null,
            "_view_module": "@jupyter-widgets/base",
            "_view_module_version": "1.2.0",
            "_view_name": "StyleView",
            "description_width": ""
          }
        },
        "9e2d7bce443d4d9d8460834722fa1a2e": {
          "model_module": "@jupyter-widgets/base",
          "model_name": "LayoutModel",
          "model_module_version": "1.2.0",
          "state": {
            "_model_module": "@jupyter-widgets/base",
            "_model_module_version": "1.2.0",
            "_model_name": "LayoutModel",
            "_view_count": null,
            "_view_module": "@jupyter-widgets/base",
            "_view_module_version": "1.2.0",
            "_view_name": "LayoutView",
            "align_content": null,
            "align_items": null,
            "align_self": null,
            "border": null,
            "bottom": null,
            "display": null,
            "flex": null,
            "flex_flow": null,
            "grid_area": null,
            "grid_auto_columns": null,
            "grid_auto_flow": null,
            "grid_auto_rows": null,
            "grid_column": null,
            "grid_gap": null,
            "grid_row": null,
            "grid_template_areas": null,
            "grid_template_columns": null,
            "grid_template_rows": null,
            "height": null,
            "justify_content": null,
            "justify_items": null,
            "left": null,
            "margin": null,
            "max_height": null,
            "max_width": null,
            "min_height": null,
            "min_width": null,
            "object_fit": null,
            "object_position": null,
            "order": null,
            "overflow": null,
            "overflow_x": null,
            "overflow_y": null,
            "padding": null,
            "right": null,
            "top": null,
            "visibility": null,
            "width": null
          }
        },
        "e6c25271d25e49cd84d26d4fbb40e491": {
          "model_module": "@jupyter-widgets/controls",
          "model_name": "ProgressStyleModel",
          "model_module_version": "1.5.0",
          "state": {
            "_model_module": "@jupyter-widgets/controls",
            "_model_module_version": "1.5.0",
            "_model_name": "ProgressStyleModel",
            "_view_count": null,
            "_view_module": "@jupyter-widgets/base",
            "_view_module_version": "1.2.0",
            "_view_name": "StyleView",
            "bar_color": null,
            "description_width": ""
          }
        },
        "36d3ced4aa8248268b5fad57f6ff0520": {
          "model_module": "@jupyter-widgets/base",
          "model_name": "LayoutModel",
          "model_module_version": "1.2.0",
          "state": {
            "_model_module": "@jupyter-widgets/base",
            "_model_module_version": "1.2.0",
            "_model_name": "LayoutModel",
            "_view_count": null,
            "_view_module": "@jupyter-widgets/base",
            "_view_module_version": "1.2.0",
            "_view_name": "LayoutView",
            "align_content": null,
            "align_items": null,
            "align_self": null,
            "border": null,
            "bottom": null,
            "display": null,
            "flex": null,
            "flex_flow": null,
            "grid_area": null,
            "grid_auto_columns": null,
            "grid_auto_flow": null,
            "grid_auto_rows": null,
            "grid_column": null,
            "grid_gap": null,
            "grid_row": null,
            "grid_template_areas": null,
            "grid_template_columns": null,
            "grid_template_rows": null,
            "height": null,
            "justify_content": null,
            "justify_items": null,
            "left": null,
            "margin": null,
            "max_height": null,
            "max_width": null,
            "min_height": null,
            "min_width": null,
            "object_fit": null,
            "object_position": null,
            "order": null,
            "overflow": null,
            "overflow_x": null,
            "overflow_y": null,
            "padding": null,
            "right": null,
            "top": null,
            "visibility": null,
            "width": null
          }
        },
        "b7e761d48b8b4bbea4fe990c722beb19": {
          "model_module": "@jupyter-widgets/controls",
          "model_name": "DescriptionStyleModel",
          "model_module_version": "1.5.0",
          "state": {
            "_model_module": "@jupyter-widgets/controls",
            "_model_module_version": "1.5.0",
            "_model_name": "DescriptionStyleModel",
            "_view_count": null,
            "_view_module": "@jupyter-widgets/base",
            "_view_module_version": "1.2.0",
            "_view_name": "StyleView",
            "description_width": ""
          }
        }
      }
    }
  },
  "cells": [
    {
      "cell_type": "markdown",
      "metadata": {
        "id": "view-in-github",
        "colab_type": "text"
      },
      "source": [
        "<a href=\"https://colab.research.google.com/github/carlosinator/cil-sentiment/blob/main/models_overview.ipynb\" target=\"_parent\"><img src=\"https://colab.research.google.com/assets/colab-badge.svg\" alt=\"Open In Colab\"/></a>"
      ]
    },
    {
      "cell_type": "markdown",
      "source": [
        "# Setup"
      ],
      "metadata": {
        "id": "1X_UmrK_7BAB"
      }
    },
    {
      "cell_type": "code",
      "execution_count": 1,
      "metadata": {
        "id": "y4YS6EB03L-4"
      },
      "outputs": [],
      "source": [
        "from google.colab import auth\n",
        "auth.authenticate_user()"
      ]
    },
    {
      "cell_type": "code",
      "source": [
        "%%bash\n",
        "pip3 install transformers emoji==0.6.0 keras_nlp"
      ],
      "metadata": {
        "colab": {
          "base_uri": "https://localhost:8080/"
        },
        "id": "VWdOEeRF_0jh",
        "outputId": "de5d8cbb-b1d4-4214-abe6-cd9832bd653b"
      },
      "execution_count": 2,
      "outputs": [
        {
          "output_type": "stream",
          "name": "stdout",
          "text": [
            "Collecting transformers\n",
            "  Downloading transformers-4.31.0-py3-none-any.whl (7.4 MB)\n",
            "     ━━━━━━━━━━━━━━━━━━━━━━━━━━━━━━━━━━━━━━━━ 7.4/7.4 MB 29.9 MB/s eta 0:00:00\n",
            "Collecting emoji==0.6.0\n",
            "  Downloading emoji-0.6.0.tar.gz (51 kB)\n",
            "     ━━━━━━━━━━━━━━━━━━━━━━━━━━━━━━━━━━━━━━━━ 51.0/51.0 kB 5.9 MB/s eta 0:00:00\n",
            "  Preparing metadata (setup.py): started\n",
            "  Preparing metadata (setup.py): finished with status 'done'\n",
            "Collecting keras_nlp\n",
            "  Downloading keras_nlp-0.6.0-py3-none-any.whl (576 kB)\n",
            "     ━━━━━━━━━━━━━━━━━━━━━━━━━━━━━━━━━━━━━━ 576.5/576.5 kB 39.2 MB/s eta 0:00:00\n",
            "Requirement already satisfied: filelock in /usr/local/lib/python3.10/dist-packages (from transformers) (3.12.2)\n",
            "Collecting huggingface-hub<1.0,>=0.14.1 (from transformers)\n",
            "  Downloading huggingface_hub-0.16.4-py3-none-any.whl (268 kB)\n",
            "     ━━━━━━━━━━━━━━━━━━━━━━━━━━━━━━━━━━━━━━ 268.8/268.8 kB 25.9 MB/s eta 0:00:00\n",
            "Requirement already satisfied: numpy>=1.17 in /usr/local/lib/python3.10/dist-packages (from transformers) (1.22.4)\n",
            "Requirement already satisfied: packaging>=20.0 in /usr/local/lib/python3.10/dist-packages (from transformers) (23.1)\n",
            "Requirement already satisfied: pyyaml>=5.1 in /usr/local/lib/python3.10/dist-packages (from transformers) (6.0.1)\n",
            "Requirement already satisfied: regex!=2019.12.17 in /usr/local/lib/python3.10/dist-packages (from transformers) (2022.10.31)\n",
            "Requirement already satisfied: requests in /usr/local/lib/python3.10/dist-packages (from transformers) (2.27.1)\n",
            "Collecting tokenizers!=0.11.3,<0.14,>=0.11.1 (from transformers)\n",
            "  Downloading tokenizers-0.13.3-cp310-cp310-manylinux_2_17_x86_64.manylinux2014_x86_64.whl (7.8 MB)\n",
            "     ━━━━━━━━━━━━━━━━━━━━━━━━━━━━━━━━━━━━━━━━ 7.8/7.8 MB 71.6 MB/s eta 0:00:00\n",
            "Collecting safetensors>=0.3.1 (from transformers)\n",
            "  Downloading safetensors-0.3.1-cp310-cp310-manylinux_2_17_x86_64.manylinux2014_x86_64.whl (1.3 MB)\n",
            "     ━━━━━━━━━━━━━━━━━━━━━━━━━━━━━━━━━━━━━━━━ 1.3/1.3 MB 68.7 MB/s eta 0:00:00\n",
            "Requirement already satisfied: tqdm>=4.27 in /usr/local/lib/python3.10/dist-packages (from transformers) (4.65.0)\n",
            "Collecting keras-core (from keras_nlp)\n",
            "  Downloading keras_core-0.1.3-py3-none-any.whl (851 kB)\n",
            "     ━━━━━━━━━━━━━━━━━━━━━━━━━━━━━━━━━━━━━━ 851.9/851.9 kB 67.2 MB/s eta 0:00:00\n",
            "Requirement already satisfied: absl-py in /usr/local/lib/python3.10/dist-packages (from keras_nlp) (1.4.0)\n",
            "Requirement already satisfied: rich in /usr/local/lib/python3.10/dist-packages (from keras_nlp) (13.4.2)\n",
            "Collecting tensorflow-text (from keras_nlp)\n",
            "  Downloading tensorflow_text-2.13.0-cp310-cp310-manylinux_2_17_x86_64.manylinux2014_x86_64.whl (6.5 MB)\n",
            "     ━━━━━━━━━━━━━━━━━━━━━━━━━━━━━━━━━━━━━━━━ 6.5/6.5 MB 90.5 MB/s eta 0:00:00\n",
            "Requirement already satisfied: fsspec in /usr/local/lib/python3.10/dist-packages (from huggingface-hub<1.0,>=0.14.1->transformers) (2023.6.0)\n",
            "Requirement already satisfied: typing-extensions>=3.7.4.3 in /usr/local/lib/python3.10/dist-packages (from huggingface-hub<1.0,>=0.14.1->transformers) (4.7.1)\n",
            "Collecting namex (from keras-core->keras_nlp)\n",
            "  Downloading namex-0.0.7-py3-none-any.whl (5.8 kB)\n",
            "Requirement already satisfied: h5py in /usr/local/lib/python3.10/dist-packages (from keras-core->keras_nlp) (3.8.0)\n",
            "Requirement already satisfied: dm-tree in /usr/local/lib/python3.10/dist-packages (from keras-core->keras_nlp) (0.1.8)\n",
            "Requirement already satisfied: urllib3<1.27,>=1.21.1 in /usr/local/lib/python3.10/dist-packages (from requests->transformers) (1.26.16)\n",
            "Requirement already satisfied: certifi>=2017.4.17 in /usr/local/lib/python3.10/dist-packages (from requests->transformers) (2023.7.22)\n",
            "Requirement already satisfied: charset-normalizer~=2.0.0 in /usr/local/lib/python3.10/dist-packages (from requests->transformers) (2.0.12)\n",
            "Requirement already satisfied: idna<4,>=2.5 in /usr/local/lib/python3.10/dist-packages (from requests->transformers) (3.4)\n",
            "Requirement already satisfied: markdown-it-py>=2.2.0 in /usr/local/lib/python3.10/dist-packages (from rich->keras_nlp) (3.0.0)\n",
            "Requirement already satisfied: pygments<3.0.0,>=2.13.0 in /usr/local/lib/python3.10/dist-packages (from rich->keras_nlp) (2.14.0)\n",
            "Requirement already satisfied: tensorflow-hub>=0.8.0 in /usr/local/lib/python3.10/dist-packages (from tensorflow-text->keras_nlp) (0.14.0)\n",
            "Collecting tensorflow<2.14,>=2.13.0 (from tensorflow-text->keras_nlp)\n",
            "  Downloading tensorflow-2.13.0-cp310-cp310-manylinux_2_17_x86_64.manylinux2014_x86_64.whl (524.1 MB)\n",
            "     ━━━━━━━━━━━━━━━━━━━━━━━━━━━━━━━━━━━━━━━ 524.1/524.1 MB 3.0 MB/s eta 0:00:00\n",
            "Requirement already satisfied: mdurl~=0.1 in /usr/local/lib/python3.10/dist-packages (from markdown-it-py>=2.2.0->rich->keras_nlp) (0.1.2)\n",
            "Requirement already satisfied: astunparse>=1.6.0 in /usr/local/lib/python3.10/dist-packages (from tensorflow<2.14,>=2.13.0->tensorflow-text->keras_nlp) (1.6.3)\n",
            "Requirement already satisfied: flatbuffers>=23.1.21 in /usr/local/lib/python3.10/dist-packages (from tensorflow<2.14,>=2.13.0->tensorflow-text->keras_nlp) (23.5.26)\n",
            "Requirement already satisfied: gast<=0.4.0,>=0.2.1 in /usr/local/lib/python3.10/dist-packages (from tensorflow<2.14,>=2.13.0->tensorflow-text->keras_nlp) (0.4.0)\n",
            "Requirement already satisfied: google-pasta>=0.1.1 in /usr/local/lib/python3.10/dist-packages (from tensorflow<2.14,>=2.13.0->tensorflow-text->keras_nlp) (0.2.0)\n",
            "Requirement already satisfied: grpcio<2.0,>=1.24.3 in /usr/local/lib/python3.10/dist-packages (from tensorflow<2.14,>=2.13.0->tensorflow-text->keras_nlp) (1.56.2)\n",
            "Collecting keras<2.14,>=2.13.1 (from tensorflow<2.14,>=2.13.0->tensorflow-text->keras_nlp)\n",
            "  Downloading keras-2.13.1-py3-none-any.whl (1.7 MB)\n",
            "     ━━━━━━━━━━━━━━━━━━━━━━━━━━━━━━━━━━━━━━━━ 1.7/1.7 MB 85.8 MB/s eta 0:00:00\n",
            "Requirement already satisfied: libclang>=13.0.0 in /usr/local/lib/python3.10/dist-packages (from tensorflow<2.14,>=2.13.0->tensorflow-text->keras_nlp) (16.0.6)\n",
            "Requirement already satisfied: opt-einsum>=2.3.2 in /usr/local/lib/python3.10/dist-packages (from tensorflow<2.14,>=2.13.0->tensorflow-text->keras_nlp) (3.3.0)\n",
            "Requirement already satisfied: protobuf!=4.21.0,!=4.21.1,!=4.21.2,!=4.21.3,!=4.21.4,!=4.21.5,<5.0.0dev,>=3.20.3 in /usr/local/lib/python3.10/dist-packages (from tensorflow<2.14,>=2.13.0->tensorflow-text->keras_nlp) (3.20.3)\n",
            "Requirement already satisfied: setuptools in /usr/local/lib/python3.10/dist-packages (from tensorflow<2.14,>=2.13.0->tensorflow-text->keras_nlp) (67.7.2)\n",
            "Requirement already satisfied: six>=1.12.0 in /usr/local/lib/python3.10/dist-packages (from tensorflow<2.14,>=2.13.0->tensorflow-text->keras_nlp) (1.16.0)\n",
            "Collecting tensorboard<2.14,>=2.13 (from tensorflow<2.14,>=2.13.0->tensorflow-text->keras_nlp)\n",
            "  Downloading tensorboard-2.13.0-py3-none-any.whl (5.6 MB)\n",
            "     ━━━━━━━━━━━━━━━━━━━━━━━━━━━━━━━━━━━━━━━━ 5.6/5.6 MB 119.0 MB/s eta 0:00:00\n",
            "Collecting tensorflow-estimator<2.14,>=2.13.0 (from tensorflow<2.14,>=2.13.0->tensorflow-text->keras_nlp)\n",
            "  Downloading tensorflow_estimator-2.13.0-py2.py3-none-any.whl (440 kB)\n",
            "     ━━━━━━━━━━━━━━━━━━━━━━━━━━━━━━━━━━━━━━ 440.8/440.8 kB 39.8 MB/s eta 0:00:00\n",
            "Requirement already satisfied: termcolor>=1.1.0 in /usr/local/lib/python3.10/dist-packages (from tensorflow<2.14,>=2.13.0->tensorflow-text->keras_nlp) (2.3.0)\n",
            "Collecting typing-extensions>=3.7.4.3 (from huggingface-hub<1.0,>=0.14.1->transformers)\n",
            "  Downloading typing_extensions-4.5.0-py3-none-any.whl (27 kB)\n",
            "Requirement already satisfied: wrapt>=1.11.0 in /usr/local/lib/python3.10/dist-packages (from tensorflow<2.14,>=2.13.0->tensorflow-text->keras_nlp) (1.14.1)\n",
            "Requirement already satisfied: tensorflow-io-gcs-filesystem>=0.23.1 in /usr/local/lib/python3.10/dist-packages (from tensorflow<2.14,>=2.13.0->tensorflow-text->keras_nlp) (0.32.0)\n",
            "Requirement already satisfied: wheel<1.0,>=0.23.0 in /usr/local/lib/python3.10/dist-packages (from astunparse>=1.6.0->tensorflow<2.14,>=2.13.0->tensorflow-text->keras_nlp) (0.41.0)\n",
            "Requirement already satisfied: google-auth<3,>=1.6.3 in /usr/local/lib/python3.10/dist-packages (from tensorboard<2.14,>=2.13->tensorflow<2.14,>=2.13.0->tensorflow-text->keras_nlp) (2.17.3)\n",
            "Requirement already satisfied: google-auth-oauthlib<1.1,>=0.5 in /usr/local/lib/python3.10/dist-packages (from tensorboard<2.14,>=2.13->tensorflow<2.14,>=2.13.0->tensorflow-text->keras_nlp) (1.0.0)\n",
            "Requirement already satisfied: markdown>=2.6.8 in /usr/local/lib/python3.10/dist-packages (from tensorboard<2.14,>=2.13->tensorflow<2.14,>=2.13.0->tensorflow-text->keras_nlp) (3.4.4)\n",
            "Requirement already satisfied: tensorboard-data-server<0.8.0,>=0.7.0 in /usr/local/lib/python3.10/dist-packages (from tensorboard<2.14,>=2.13->tensorflow<2.14,>=2.13.0->tensorflow-text->keras_nlp) (0.7.1)\n",
            "Requirement already satisfied: werkzeug>=1.0.1 in /usr/local/lib/python3.10/dist-packages (from tensorboard<2.14,>=2.13->tensorflow<2.14,>=2.13.0->tensorflow-text->keras_nlp) (2.3.6)\n",
            "Requirement already satisfied: cachetools<6.0,>=2.0.0 in /usr/local/lib/python3.10/dist-packages (from google-auth<3,>=1.6.3->tensorboard<2.14,>=2.13->tensorflow<2.14,>=2.13.0->tensorflow-text->keras_nlp) (5.3.1)\n",
            "Requirement already satisfied: pyasn1-modules>=0.2.1 in /usr/local/lib/python3.10/dist-packages (from google-auth<3,>=1.6.3->tensorboard<2.14,>=2.13->tensorflow<2.14,>=2.13.0->tensorflow-text->keras_nlp) (0.3.0)\n",
            "Requirement already satisfied: rsa<5,>=3.1.4 in /usr/local/lib/python3.10/dist-packages (from google-auth<3,>=1.6.3->tensorboard<2.14,>=2.13->tensorflow<2.14,>=2.13.0->tensorflow-text->keras_nlp) (4.9)\n",
            "Requirement already satisfied: requests-oauthlib>=0.7.0 in /usr/local/lib/python3.10/dist-packages (from google-auth-oauthlib<1.1,>=0.5->tensorboard<2.14,>=2.13->tensorflow<2.14,>=2.13.0->tensorflow-text->keras_nlp) (1.3.1)\n",
            "Requirement already satisfied: MarkupSafe>=2.1.1 in /usr/local/lib/python3.10/dist-packages (from werkzeug>=1.0.1->tensorboard<2.14,>=2.13->tensorflow<2.14,>=2.13.0->tensorflow-text->keras_nlp) (2.1.3)\n",
            "Requirement already satisfied: pyasn1<0.6.0,>=0.4.6 in /usr/local/lib/python3.10/dist-packages (from pyasn1-modules>=0.2.1->google-auth<3,>=1.6.3->tensorboard<2.14,>=2.13->tensorflow<2.14,>=2.13.0->tensorflow-text->keras_nlp) (0.5.0)\n",
            "Requirement already satisfied: oauthlib>=3.0.0 in /usr/local/lib/python3.10/dist-packages (from requests-oauthlib>=0.7.0->google-auth-oauthlib<1.1,>=0.5->tensorboard<2.14,>=2.13->tensorflow<2.14,>=2.13.0->tensorflow-text->keras_nlp) (3.2.2)\n",
            "Building wheels for collected packages: emoji\n",
            "  Building wheel for emoji (setup.py): started\n",
            "  Building wheel for emoji (setup.py): finished with status 'done'\n",
            "  Created wheel for emoji: filename=emoji-0.6.0-py3-none-any.whl size=49720 sha256=8efffc5f664ca1be75a4d2e1761381e6070249f0e0f67d76ff72601e23d4d228\n",
            "  Stored in directory: /root/.cache/pip/wheels/1b/bd/d9/310c33c45a553798a714e27e3b8395d37128425442b8c78e07\n",
            "Successfully built emoji\n",
            "Installing collected packages: tokenizers, safetensors, namex, emoji, typing-extensions, tensorflow-estimator, keras, huggingface-hub, transformers, keras-core, tensorboard, tensorflow, tensorflow-text, keras_nlp\n",
            "  Attempting uninstall: typing-extensions\n",
            "    Found existing installation: typing_extensions 4.7.1\n",
            "    Uninstalling typing_extensions-4.7.1:\n",
            "      Successfully uninstalled typing_extensions-4.7.1\n",
            "  Attempting uninstall: tensorflow-estimator\n",
            "    Found existing installation: tensorflow-estimator 2.12.0\n",
            "    Uninstalling tensorflow-estimator-2.12.0:\n",
            "      Successfully uninstalled tensorflow-estimator-2.12.0\n",
            "  Attempting uninstall: keras\n",
            "    Found existing installation: keras 2.12.0\n",
            "    Uninstalling keras-2.12.0:\n",
            "      Successfully uninstalled keras-2.12.0\n",
            "  Attempting uninstall: tensorboard\n",
            "    Found existing installation: tensorboard 2.12.3\n",
            "    Uninstalling tensorboard-2.12.3:\n",
            "      Successfully uninstalled tensorboard-2.12.3\n",
            "  Attempting uninstall: tensorflow\n",
            "    Found existing installation: tensorflow 2.12.0\n",
            "    Uninstalling tensorflow-2.12.0:\n",
            "      Successfully uninstalled tensorflow-2.12.0\n",
            "Successfully installed emoji-0.6.0 huggingface-hub-0.16.4 keras-2.13.1 keras-core-0.1.3 keras_nlp-0.6.0 namex-0.0.7 safetensors-0.3.1 tensorboard-2.13.0 tensorflow-2.13.0 tensorflow-estimator-2.13.0 tensorflow-text-2.13.0 tokenizers-0.13.3 transformers-4.31.0 typing-extensions-4.5.0\n"
          ]
        }
      ]
    },
    {
      "cell_type": "code",
      "source": [
        "import numpy as np\n",
        "import pandas as pd\n",
        "import sklearn\n",
        "from sklearn import metrics\n",
        "import matplotlib.pyplot as plt\n",
        "import seaborn as sns\n",
        "import pickle\n",
        "import re\n",
        "from pathlib import Path\n",
        "import tensorflow as tf\n",
        "import transformers"
      ],
      "metadata": {
        "id": "1qctsllC3UvU"
      },
      "execution_count": 3,
      "outputs": []
    },
    {
      "cell_type": "code",
      "source": [
        "# reproducibility\n",
        "transformers.set_seed(0) # sets the seed in random, numpy, and tf"
      ],
      "metadata": {
        "id": "u32y6uKvAjv8"
      },
      "execution_count": 4,
      "outputs": []
    },
    {
      "cell_type": "markdown",
      "source": [
        "# Data"
      ],
      "metadata": {
        "id": "EwU8Z6EWA6vf"
      }
    },
    {
      "cell_type": "code",
      "source": [
        "# copy data to pwd\n",
        "!gsutil cp \"gs://cil_2023/train_pos_full_preprocessed_without_duplicates.txt\" .\n",
        "!gsutil cp \"gs://cil_2023/train_neg_full_preprocessed_without_duplicates.txt\" .\n",
        "\n",
        "filename_train_pos = \"train_pos_full_preprocessed_without_duplicates.txt\"\n",
        "filename_train_neg = \"train_neg_full_preprocessed_without_duplicates.txt\""
      ],
      "metadata": {
        "colab": {
          "base_uri": "https://localhost:8080/"
        },
        "id": "i1iayg9bA9Wr",
        "outputId": "58ec811c-97c4-43a2-e461-6ed59f6a0a19"
      },
      "execution_count": 5,
      "outputs": [
        {
          "output_type": "stream",
          "name": "stdout",
          "text": [
            "Copying gs://cil_2023/train_pos_full_preprocessed_without_duplicates.txt...\n",
            "\\ [1 files][ 74.6 MiB/ 74.6 MiB]                                                \n",
            "Operation completed over 1 objects/74.6 MiB.                                     \n",
            "Copying gs://cil_2023/train_neg_full_preprocessed_without_duplicates.txt...\n",
            "| [1 files][ 91.6 MiB/ 91.6 MiB]                                                \n",
            "Operation completed over 1 objects/91.6 MiB.                                     \n"
          ]
        }
      ]
    },
    {
      "cell_type": "code",
      "source": [
        "from transformers import AutoTokenizer, TFAutoModel, AutoConfig, TFAutoModelForSequenceClassification\n",
        "\n",
        "# read dataset\n",
        "dataset_pos_pd = pd.read_table(filename_train_pos, sep='\\r\\n', header=None, names=['text'])\n",
        "dataset_neg_pd = pd.read_table(filename_train_neg, sep='\\r\\n', header=None, names=['text'])\n",
        "dataset_pos_pd['label'] = 0\n",
        "dataset_neg_pd['label'] = 1\n",
        "dataset_pd = pd.concat([dataset_pos_pd, dataset_neg_pd])\n",
        "\n",
        "# shuffle\n",
        "dataset_pd = dataset_pd.sample(frac=1, random_state=0).reset_index(drop=True)\n",
        "\n",
        "# tokenize data set\n",
        "model_name = \"vinai/bertweet-base\"\n",
        "tokenizer = AutoTokenizer.from_pretrained(model_name)\n",
        "texts = tokenizer.batch_encode_plus(dataset_pd['text'].tolist(),\n",
        "                                    padding=True, truncation=True,\n",
        "                                    return_tensors='tf')\n",
        "\n",
        "dataset = tf.data.Dataset.from_tensor_slices((dict(texts), dataset_pd['label']))"
      ],
      "metadata": {
        "colab": {
          "base_uri": "https://localhost:8080/",
          "height": 250,
          "referenced_widgets": [
            "8947c1b4387948d796e2d999e4568379",
            "7541749b046a46e38f898b83934881ba",
            "767593c503a84f138bf95f0edeaeb12c",
            "9da3a598232e4b809cee7a5b203c5565",
            "6e1fa8c8072a46a382677c8755a32c38",
            "7ae45397417d46a4963e80ee86501deb",
            "e22d984acb654b14a8a5631e6c45db06",
            "ac2204ab305d4025b49ff82e956e1555",
            "ee97917fcf564c90a6c37a5b0f0970f1",
            "b4753ac0b3fc487d9c311cbe1655309f",
            "76a63b808f9a474fac88328f50461b53",
            "4b1bef19082c4947af527b79832427cc",
            "4aad948af6ae4fbb8e29c99780c0d33e",
            "d56994ad40dd49059b578bf5ea04fe38",
            "90a5e5528ae9431388b4bf5dbba080f1",
            "ffda5b171ed449e0b89872a4e2c1c8f1",
            "658c2caec925448bb11d5c34e12816f6",
            "7b5320cb26f84910956480c96e07ef65",
            "a06e9b68fcbd45bb943470c248dc48c9",
            "0d48480d6e144533a7b2e87957b890a5",
            "cdead52bf84c41e4ab2c71f7e4a94799",
            "8e0d98e1b2274913b389be5ebe508c31",
            "dbe753e69f894a33a2a8ca6bbec19474",
            "434324155a9844848a1d50409cf4fdf2",
            "b9f6b445a4b142a4bd1e89d5f5f8d734",
            "edfae3a422ac47039d845bb769fa8ff5",
            "c1f98a8ff70d44c8995e345443643d06",
            "1765705c05904131b3d93c40c769b245",
            "a73d9d7a3db14c7a84e001bed4365ab1",
            "9e2d7bce443d4d9d8460834722fa1a2e",
            "e6c25271d25e49cd84d26d4fbb40e491",
            "36d3ced4aa8248268b5fad57f6ff0520",
            "b7e761d48b8b4bbea4fe990c722beb19"
          ]
        },
        "id": "5b6kgp1mBA7X",
        "outputId": "693a95c0-ed2b-459c-a441-c706a378f0c0"
      },
      "execution_count": 6,
      "outputs": [
        {
          "output_type": "stream",
          "name": "stderr",
          "text": [
            "<ipython-input-6-854d5865ecc4>:4: ParserWarning: Falling back to the 'python' engine because the 'c' engine does not support regex separators (separators > 1 char and different from '\\s+' are interpreted as regex); you can avoid this warning by specifying engine='python'.\n",
            "  dataset_pos_pd = pd.read_table(filename_train_pos, sep='\\r\\n', header=None, names=['text'])\n",
            "<ipython-input-6-854d5865ecc4>:5: ParserWarning: Falling back to the 'python' engine because the 'c' engine does not support regex separators (separators > 1 char and different from '\\s+' are interpreted as regex); you can avoid this warning by specifying engine='python'.\n",
            "  dataset_neg_pd = pd.read_table(filename_train_neg, sep='\\r\\n', header=None, names=['text'])\n"
          ]
        },
        {
          "output_type": "display_data",
          "data": {
            "text/plain": [
              "Downloading (…)lve/main/config.json:   0%|          | 0.00/558 [00:00<?, ?B/s]"
            ],
            "application/vnd.jupyter.widget-view+json": {
              "version_major": 2,
              "version_minor": 0,
              "model_id": "8947c1b4387948d796e2d999e4568379"
            }
          },
          "metadata": {}
        },
        {
          "output_type": "display_data",
          "data": {
            "text/plain": [
              "Downloading (…)solve/main/vocab.txt:   0%|          | 0.00/843k [00:00<?, ?B/s]"
            ],
            "application/vnd.jupyter.widget-view+json": {
              "version_major": 2,
              "version_minor": 0,
              "model_id": "4b1bef19082c4947af527b79832427cc"
            }
          },
          "metadata": {}
        },
        {
          "output_type": "display_data",
          "data": {
            "text/plain": [
              "Downloading (…)solve/main/bpe.codes:   0%|          | 0.00/1.08M [00:00<?, ?B/s]"
            ],
            "application/vnd.jupyter.widget-view+json": {
              "version_major": 2,
              "version_minor": 0,
              "model_id": "dbe753e69f894a33a2a8ca6bbec19474"
            }
          },
          "metadata": {}
        },
        {
          "output_type": "stream",
          "name": "stderr",
          "text": [
            "Special tokens have been added in the vocabulary, make sure the associated word embeddings are fine-tuned or trained.\n"
          ]
        }
      ]
    },
    {
      "cell_type": "code",
      "source": [
        "# split training / validation\n",
        "AUTOTUNE = tf.data.experimental.AUTOTUNE\n",
        "\n",
        "val_data_size = int(0.1 * len(dataset_pd.index))\n",
        "test_data_size = int(0.1 * len(dataset_pd.index))\n",
        "train_data_size = len(dataset_pd.index) - val_data_size - test_data_size\n",
        "\n",
        "def get_test_ds(batch_size: int):\n",
        "  val_ds = dataset.take(val_data_size).batch(batch_size, drop_remainder=True)\n",
        "  train_ds = dataset.skip(val_data_size).batch(batch_size, drop_remainder=True)\n",
        "  test_ds = dataset.skip(val_data_size + train_data_size).take(test_data_size).batch(batch_size, drop_remainder=True)\n",
        "\n",
        "  train_ds = train_ds.prefetch(buffer_size=AUTOTUNE)\n",
        "\n",
        "  return test_ds"
      ],
      "metadata": {
        "id": "u2L86uHPBI1_"
      },
      "execution_count": 7,
      "outputs": []
    },
    {
      "cell_type": "markdown",
      "source": [
        "# Models"
      ],
      "metadata": {
        "id": "A6og3zDs7KBs"
      }
    },
    {
      "cell_type": "code",
      "source": [
        "# helper function\n",
        "def remove_trailing_zeros(array):\n",
        "    last_index = len(array) - 1\n",
        "\n",
        "    # Find the last non-zero element\n",
        "    while last_index >= 0 and array[last_index] == 0:\n",
        "        last_index -= 1\n",
        "\n",
        "    # Resize the array to exclude trailing zeros\n",
        "    array = array[0:last_index + 1]\n",
        "\n",
        "    return array"
      ],
      "metadata": {
        "id": "96y-Ss_mWb3F"
      },
      "execution_count": 12,
      "outputs": []
    },
    {
      "cell_type": "code",
      "source": [
        "from dataclasses import dataclass\n",
        "from typing import List\n",
        "from enum import Enum\n",
        "import os\n",
        "from pathlib import Path\n",
        "from functools import cached_property\n",
        "\n",
        "class ExperimentType(Enum):\n",
        "    READ = \"read\"\n",
        "    MINION = \"minion\"\n",
        "    BASE = \"base\"\n",
        "\n",
        "@dataclass\n",
        "class Experiment:\n",
        "    name: str\n",
        "    lr: float\n",
        "    units: int\n",
        "    batch_size: int\n",
        "    epochs: int\n",
        "    type_id: ExperimentType\n",
        "\n",
        "    @property\n",
        "    def description(self) -> str:\n",
        "      gru_description = f\"GRU_UNITS: {self.units}\"\n",
        "      return f\"{self.type_id.value.upper()} (EPOCHS: {self.epochs}, LR: {self.lr}, BATCH_SIZE: {self.batch_size}{', '+gru_description if gru_description else ''})\"\n",
        "\n",
        "    def base_filename(self) -> str:\n",
        "        type_id_string = \"\"\n",
        "        if self.type_id == ExperimentType.READ:\n",
        "            type_id_string = \"paper-read\"\n",
        "        elif self.type_id == ExperimentType.MINION:\n",
        "            type_id_string = \"read\"\n",
        "        elif self.type_id == ExperimentType.BASE:\n",
        "            type_id_string = \"basemodel\"\n",
        "\n",
        "        return f\"inference_{type_id_string}_fullmodel_lr{self.lr}_ep{self.epochs}_batchs={self.batch_size}_gru_units={self.units}\"\n",
        "\n",
        "    @cached_property\n",
        "    def model(self):\n",
        "        if not Path(self.base_filename()).exists():\n",
        "          !gsutil cp -r {\"gs://cil_2023/models/\" + self.base_filename()} .\n",
        "        return tf.keras.models.load_model(self.base_filename())\n",
        "\n",
        "    @cached_property\n",
        "    def gpu_history(self):\n",
        "      gpu_file_name = f\"gpu_hist_{self.base_filename()}.pkl\"\n",
        "\n",
        "      if not Path(gpu_file_name).exists():\n",
        "        fname = \"gs://cil_2023/models/\" + gpu_file_name\n",
        "        !gsutil cp $fname .\n",
        "\n",
        "      with open(gpu_file_name, 'rb') as file:\n",
        "        # Load the pickled object\n",
        "        unpickled_object = pickle.load(file)\n",
        "\n",
        "        # remove trailing zeros (due to some bugs, this may occur, if gpu measurement does not automatically stop)\n",
        "        unpickled_object[\"percent\"] = remove_trailing_zeros(unpickled_object[\"percent\"])\n",
        "\n",
        "        return unpickled_object"
      ],
      "metadata": {
        "id": "JMr35GTm8VAo"
      },
      "execution_count": 49,
      "outputs": []
    },
    {
      "cell_type": "code",
      "source": [
        "# Helper function\n",
        "def sort_experiments(experiments: List[Experiment]) -> List[Experiment]:\n",
        "    def sorting_key(experiment):\n",
        "        type_order = {\n",
        "            ExperimentType.BASE: 0,\n",
        "            ExperimentType.READ: 1,\n",
        "            ExperimentType.MINION: 2\n",
        "        }\n",
        "        return type_order[experiment.type_id], experiment.type_id.value\n",
        "\n",
        "    return sorted(experiments, key=sorting_key)"
      ],
      "metadata": {
        "id": "_R1o-G3cc5JA"
      },
      "execution_count": 56,
      "outputs": []
    },
    {
      "cell_type": "code",
      "source": [
        "# List of experiments\n",
        "EXPERIMENTS: List[Experiment] = [\n",
        "    Experiment(name=\"basemodel\", lr=2e-5, units=32, batch_size=256, epochs=5, type_id=ExperimentType.BASE),\n",
        "    Experiment(name=\"minion_v0\", lr=1e-3, units=64, batch_size=256, epochs=5, type_id=ExperimentType.MINION),\n",
        "    Experiment(name=\"minion_v1\", lr=1e-3, units=8, batch_size=256, epochs=5, type_id=ExperimentType.MINION),\n",
        "    Experiment(name=\"paperread_v0\", lr=1e-3, units=64, batch_size=256, epochs=5, type_id=ExperimentType.READ),\n",
        "    Experiment(name=\"minion_v2\", lr=3e-4, units=64, batch_size=256, epochs=5, type_id=ExperimentType.MINION),\n",
        "    Experiment(name=\"paperread_v1\", lr=1e-3, units=256, batch_size=256, epochs=5, type_id=ExperimentType.READ),\n",
        "]\n",
        "\n",
        "def get_experiment(name: str) -> Experiment:\n",
        "    for experiment in EXPERIMENTS:\n",
        "        if experiment.name == name:\n",
        "            return experiment\n",
        "    return None"
      ],
      "metadata": {
        "id": "T9eUtm357MAp"
      },
      "execution_count": 57,
      "outputs": []
    },
    {
      "cell_type": "markdown",
      "source": [
        "# GPU Stats"
      ],
      "metadata": {
        "id": "q0pzaBDGWoau"
      }
    },
    {
      "cell_type": "code",
      "source": [
        "A100_p0 = 0.4 # see here for SXM: https://www.nvidia.com/en-us/data-center/a100/\n",
        "DEFAULT_ENERYG_P0 = A100_p0"
      ],
      "metadata": {
        "id": "Zm71Q4NwXVo1"
      },
      "execution_count": 14,
      "outputs": []
    },
    {
      "cell_type": "code",
      "source": [
        "def get_duration(experiment: Experiment):\n",
        "  gpu_hist = experiment.gpu_history\n",
        "  percent_values = gpu_hist[\"percent\"]\n",
        "  interval = gpu_hist[\"interval\"]\n",
        "\n",
        "  total_time_seconds = len(percent_values) * interval\n",
        "\n",
        "  # Convert total_time_seconds to hours and minutes\n",
        "  total_time_minutes, seconds = divmod(total_time_seconds, 60)\n",
        "  hours, minutes = divmod(total_time_minutes, 60)\n",
        "\n",
        "  print(f\"Total time measured: {total_time_seconds} seconds\")\n",
        "  print(f\"Total time measured: {hours} hours and {minutes} minutes\")\n",
        "  print(f\"Total time measured: {total_time_minutes} minutes and {seconds} seconds\")\n",
        "\n",
        "  # Calculate average time per epoch\n",
        "  if experiment.epochs > 0:\n",
        "      average_time_per_epoch_seconds = total_time_seconds / experiment.epochs\n",
        "      avg_time_minutes, avg_time_seconds = divmod(average_time_per_epoch_seconds, 60)\n",
        "      avg_time_hours, avg_time_minutes = divmod(avg_time_minutes, 60)\n",
        "      print(f\"Average time per epoch: {avg_time_hours} hours and {avg_time_minutes} minutes and {avg_time_seconds:.2f} seconds\")\n",
        "\n",
        "\n",
        "  return total_time_seconds, hours, minutes\n",
        "\n",
        "def compute_energy_consumption(experiment: Experiment, p0: float = DEFAULT_ENERYG_P0):\n",
        "  gpu_hist = experiment.gpu_history\n",
        "  utilization_percents = gpu_hist[\"percent\"]\n",
        "  interval = gpu_hist[\"interval\"]\n",
        "\n",
        "  # Calculate the number of entries per minute\n",
        "  entries_per_minute = (int)(60 // interval)\n",
        "\n",
        "  # Check if the utilization_percents length is a multiple of entries_per_minute\n",
        "  # If not, it means the last minute is incomplete, and we should only consider complete minutes for the calculation\n",
        "  if len(utilization_percents) % entries_per_minute != 0:\n",
        "      drop_count = (int)(len(utilization_percents) % entries_per_minute)\n",
        "      utilization_percents = utilization_percents[:-drop_count]\n",
        "\n",
        "  # Reshape the utilization_percents to a 2D array with 'entries_per_minute' columns\n",
        "  utilization_percents = np.array(utilization_percents).reshape(-1, entries_per_minute)\n",
        "\n",
        "  # Create utilization_percents_per_minutes list by taking the average of each row\n",
        "  utilization_percents_per_minutes = utilization_percents.mean(axis=1)\n",
        "\n",
        "\n",
        "  # Compute the total energy consumption\n",
        "  total_energy_consumption = np.sum(utilization_percents_per_minutes) * p0 / 6000\n",
        "\n",
        "  # result is in kWH\n",
        "  return total_energy_consumption"
      ],
      "metadata": {
        "id": "iNv1LKAyWqHC"
      },
      "execution_count": 22,
      "outputs": []
    },
    {
      "cell_type": "markdown",
      "source": [
        "# Accuracy"
      ],
      "metadata": {
        "id": "7AMO90bcKY32"
      }
    },
    {
      "cell_type": "code",
      "source": [
        "from sklearn.metrics import accuracy_score, f1_score\n",
        "\n",
        "def get_scoring(experiment: Experiment):\n",
        "  model = experiment.model\n",
        "  test_ds = get_test_ds(experiment.batch_size)\n",
        "\n",
        "  # Assuming that 'model' is your trained model\n",
        "  # Assuming that 'dataset' is your batched dataset\n",
        "\n",
        "  # These lists will store all labels and predictions\n",
        "  all_labels = []\n",
        "  all_predictions = []\n",
        "\n",
        "  # Iterate over batches in the dataset\n",
        "  for features, labels in test_ds:\n",
        "      # Predict the outputs for the current batch\n",
        "      batch_predictions = model.predict(features)\n",
        "      # Flatten labels and add them to their respective lists\n",
        "      all_labels.extend(labels.numpy().flatten())\n",
        "      # Save the batch predictions\n",
        "      all_predictions.extend(batch_predictions)\n",
        "\n",
        "  # Convert list of predictions to numpy array\n",
        "  all_predictions = np.array(all_predictions)\n",
        "\n",
        "  # Use argmax to get the class with the highest probability for each prediction\n",
        "  all_predictions_labels = np.argmax(all_predictions, axis=-1)\n",
        "\n",
        "  # Now we can compute the accuracy and F1 score\n",
        "  accuracy = accuracy_score(all_labels, all_predictions_labels)\n",
        "  f1 = f1_score(all_labels, all_predictions_labels, average='macro')\n",
        "\n",
        "  print(\"Model accuracy:\", accuracy)\n",
        "  print(\"Model F1 score:\", f1)\n",
        "\n",
        "  return accuracy, f1, all_labels, all_predictions"
      ],
      "metadata": {
        "id": "rW2dC8jjKaWV"
      },
      "execution_count": 10,
      "outputs": []
    },
    {
      "cell_type": "markdown",
      "source": [
        "# Tests"
      ],
      "metadata": {
        "id": "W4ZsASgIMHSt"
      }
    },
    {
      "cell_type": "code",
      "source": [
        "experiment = get_experiment(\"minion_v0\")\n",
        "get_duration(experiment)"
      ],
      "metadata": {
        "colab": {
          "base_uri": "https://localhost:8080/"
        },
        "id": "fnC2mSiTY4Cy",
        "outputId": "6302e4ac-5388-497a-be0f-b4a7189f6b5b"
      },
      "execution_count": 23,
      "outputs": [
        {
          "output_type": "stream",
          "name": "stdout",
          "text": [
            "Total time measured: 9890.0 seconds\n",
            "Total time measured: 2.0 hours and 44.0 minutes\n",
            "Total time measured: 164.0 minutes and 50.0 seconds\n",
            "Average time per epoch: 0.0 hours and 32.0 minutes and 58.00 seconds\n"
          ]
        },
        {
          "output_type": "execute_result",
          "data": {
            "text/plain": [
              "(9890.0, 2.0, 44.0)"
            ]
          },
          "metadata": {},
          "execution_count": 23
        }
      ]
    },
    {
      "cell_type": "code",
      "source": [
        "experiment = get_experiment(\"minion_v0\")\n",
        "experiment.base_filename()\n",
        "scores = get_scoring(experiment)"
      ],
      "metadata": {
        "id": "ejOXtx1FMKUT"
      },
      "execution_count": null,
      "outputs": []
    },
    {
      "cell_type": "markdown",
      "source": [
        "# Analyze GPU History"
      ],
      "metadata": {
        "id": "fvLKkJgg5yD0"
      }
    },
    {
      "cell_type": "code",
      "source": [
        "def plot_percent_values(datapoints,\n",
        "                        interval,\n",
        "                        y_axis_title='GPU Ressource utilization',\n",
        "                        y_label='GPU Ressource utilization [%]',\n",
        "                        plot_title='GPU Ressource utilization over Time'):\n",
        "    # Create a range of time values in minutes\n",
        "    time_values = np.arange(0, len(datapoints)*interval, interval) / 60\n",
        "\n",
        "    # Create a DataFrame to hold time and percent values\n",
        "    df = pd.DataFrame({\n",
        "        'time [in min]': time_values,\n",
        "        'GPU Ressource utilization': datapoints\n",
        "    })\n",
        "\n",
        "    # Create the plot\n",
        "    plt.figure(figsize=(12, 6))\n",
        "    sns.lineplot(data=df, x='time [in min]', y=y_axis_title)\n",
        "\n",
        "    # Set titles\n",
        "    plt.title(plot_title)\n",
        "    plt.ylabel(y_label)\n",
        "    plt.xlabel('time [in min]')\n",
        "\n",
        "    # Display the plot\n",
        "    plt.show()"
      ],
      "metadata": {
        "id": "8hAxPdFW5k7E"
      },
      "execution_count": 25,
      "outputs": []
    },
    {
      "cell_type": "code",
      "source": [
        "get_duration(experiment)\n",
        "gpu_hist = experiment.gpu_history\n",
        "plot_percent_values(datapoints=gpu_hist['percent'], interval=gpu_hist[\"interval\"])"
      ],
      "metadata": {
        "colab": {
          "base_uri": "https://localhost:8080/",
          "height": 521
        },
        "id": "ULovII3K66y_",
        "outputId": "f9820049-04d5-4d49-fb1d-049d0bb099c4"
      },
      "execution_count": 26,
      "outputs": [
        {
          "output_type": "stream",
          "name": "stdout",
          "text": [
            "Total time measured: 9890.0 seconds\n",
            "Total time measured: 2.0 hours and 44.0 minutes\n",
            "Total time measured: 164.0 minutes and 50.0 seconds\n",
            "Average time per epoch: 0.0 hours and 32.0 minutes and 58.00 seconds\n"
          ]
        },
        {
          "output_type": "display_data",
          "data": {
            "text/plain": [
              "<Figure size 1200x600 with 1 Axes>"
            ],
            "image/png": "[encoded data removed]"
          },
          "metadata": {}
        }
      ]
    },
    {
      "cell_type": "code",
      "source": [
        "compute_energy_consumption(experiment)"
      ],
      "metadata": {
        "colab": {
          "base_uri": "https://localhost:8080/"
        },
        "id": "KykfIlUfD_Vm",
        "outputId": "eb8a759a-315f-4de8-a139-27277ce5d410"
      },
      "execution_count": 28,
      "outputs": [
        {
          "output_type": "execute_result",
          "data": {
            "text/plain": [
              "0.9375"
            ]
          },
          "metadata": {},
          "execution_count": 28
        }
      ]
    },
    {
      "cell_type": "markdown",
      "source": [
        "## Plot experiment duration\n"
      ],
      "metadata": {
        "id": "iSFlXaK9a8NB"
      }
    },
    {
      "cell_type": "code",
      "source": [
        "import seaborn as sns\n",
        "import pandas as pd\n",
        "import matplotlib.pyplot as plt\n",
        "\n",
        "def plot_experiment_durations(experiments):\n",
        "    # sort first\n",
        "    experiments = sort_experiments(experiments)\n",
        "\n",
        "    # Create a list to store the experiment data\n",
        "    experiment_data = []\n",
        "\n",
        "    # Iterate over all the paths and load the experiment data\n",
        "    for experiment in experiments:\n",
        "        total_time_seconds, _, _ = get_duration(experiment)\n",
        "\n",
        "        # Apply the transformation to the label\n",
        "        label = experiment.description\n",
        "\n",
        "        experiment_data.append({\"Name\": label, \"Duration\": total_time_seconds})\n",
        "\n",
        "    # Convert the list to a DataFrame\n",
        "    df = pd.DataFrame(experiment_data)\n",
        "\n",
        "    # Ensure the 'Duration' column is numeric\n",
        "    df['Duration'] = pd.to_numeric(df['Duration'], errors='coerce')\n",
        "\n",
        "    print(df)\n",
        "\n",
        "    # Create the seaborn plot\n",
        "    plt.figure(figsize=(10,6))\n",
        "    plot = sns.barplot(y=\"Name\", x=\"Duration\", data=df, orient=\"h\")\n",
        "\n",
        "    # Add labels for each bar\n",
        "    #for i in range(df.shape[0]):\n",
        "    #    plot.text(df.Duration[i], i, df.Name[i], color='black', ha=\"right\")\n",
        "\n",
        "    # Show the plot\n",
        "    plt.xlabel('Duration')\n",
        "    plt.ylabel('Experiment')\n",
        "    plt.title('Experiment Durations')\n",
        "    plt.show()\n"
      ],
      "metadata": {
        "id": "h5CpvCgZIBkE"
      },
      "execution_count": 58,
      "outputs": []
    },
    {
      "cell_type": "code",
      "source": [
        "plot_experiment_durations(EXPERIMENTS)"
      ],
      "metadata": {
        "colab": {
          "base_uri": "https://localhost:8080/",
          "height": 907
        },
        "id": "OfgLyJrvbPBC",
        "outputId": "2ffb890a-00ad-48c5-b4e7-8b071a184b24"
      },
      "execution_count": 59,
      "outputs": [
        {
          "output_type": "stream",
          "name": "stdout",
          "text": [
            "Total time measured: 14660.0 seconds\n",
            "Total time measured: 4.0 hours and 4.0 minutes\n",
            "Total time measured: 244.0 minutes and 20.0 seconds\n",
            "Average time per epoch: 0.0 hours and 48.0 minutes and 52.00 seconds\n",
            "Total time measured: 9890.0 seconds\n",
            "Total time measured: 2.0 hours and 44.0 minutes\n",
            "Total time measured: 164.0 minutes and 50.0 seconds\n",
            "Average time per epoch: 0.0 hours and 32.0 minutes and 58.00 seconds\n",
            "Total time measured: 10790.0 seconds\n",
            "Total time measured: 2.0 hours and 59.0 minutes\n",
            "Total time measured: 179.0 minutes and 50.0 seconds\n",
            "Average time per epoch: 0.0 hours and 35.0 minutes and 58.00 seconds\n",
            "Total time measured: 8490.0 seconds\n",
            "Total time measured: 2.0 hours and 21.0 minutes\n",
            "Total time measured: 141.0 minutes and 30.0 seconds\n",
            "Average time per epoch: 0.0 hours and 28.0 minutes and 18.00 seconds\n",
            "Total time measured: 7700.0 seconds\n",
            "Total time measured: 2.0 hours and 8.0 minutes\n",
            "Total time measured: 128.0 minutes and 20.0 seconds\n",
            "Average time per epoch: 0.0 hours and 25.0 minutes and 40.00 seconds\n",
            "Total time measured: 8520.0 seconds\n",
            "Total time measured: 2.0 hours and 22.0 minutes\n",
            "Total time measured: 142.0 minutes and 0.0 seconds\n",
            "Average time per epoch: 0.0 hours and 28.0 minutes and 24.00 seconds\n",
            "                                                Name  Duration\n",
            "0  BASE (EPOCHS: 5, LR: 2e-05, BATCH_SIZE: 256, G...   14660.0\n",
            "1  READ (EPOCHS: 5, LR: 0.001, BATCH_SIZE: 256, G...    9890.0\n",
            "2  READ (EPOCHS: 5, LR: 0.001, BATCH_SIZE: 256, G...   10790.0\n",
            "3  MINION (EPOCHS: 5, LR: 0.001, BATCH_SIZE: 256,...    8490.0\n",
            "4  MINION (EPOCHS: 5, LR: 0.001, BATCH_SIZE: 256,...    7700.0\n",
            "5  MINION (EPOCHS: 5, LR: 0.0003, BATCH_SIZE: 256...    8520.0\n"
          ]
        },
        {
          "output_type": "display_data",
          "data": {
            "text/plain": [
              "<Figure size 1000x600 with 1 Axes>"
            ],
            "image/png": "[encoded data removed]"
          },
          "metadata": {}
        }
      ]
    },
    {
      "cell_type": "code",
      "source": [],
      "metadata": {
        "id": "KUwSx6TPbT9t"
      },
      "execution_count": null,
      "outputs": []
    }
  ]
}