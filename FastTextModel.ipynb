{
  "cells": [
    {
      "cell_type": "code",
      "execution_count": 1,
      "metadata": {
        "id": "b9CDFvfcggDU"
      },
      "outputs": [],
      "source": [
        "from google.colab import auth\n",
        "\n",
        "auth.authenticate_user()"
      ]
    },
    {
      "cell_type": "code",
      "execution_count": 2,
      "metadata": {
        "id": "V5orcgOUhCVT",
        "colab": {
          "base_uri": "https://localhost:8080/"
        },
        "outputId": "4a89ff62-24c9-4c4b-d495-1e505c588475"
      },
      "outputs": [
        {
          "output_type": "stream",
          "name": "stdout",
          "text": [
            "Collecting fasttext\n",
            "  Downloading fasttext-0.9.2.tar.gz (68 kB)\n",
            "     ━━━━━━━━━━━━━━━━━━━━━━━━━━━━━━━━━━━━━━━━ 68.8/68.8 kB 1.7 MB/s eta 0:00:00\n",
            "  Preparing metadata (setup.py): started\n",
            "  Preparing metadata (setup.py): finished with status 'done'\n",
            "Collecting pybind11>=2.2 (from fasttext)\n",
            "  Using cached pybind11-2.11.1-py3-none-any.whl (227 kB)\n",
            "Requirement already satisfied: setuptools>=0.7.0 in /usr/local/lib/python3.10/dist-packages (from fasttext) (67.7.2)\n",
            "Requirement already satisfied: numpy in /usr/local/lib/python3.10/dist-packages (from fasttext) (1.22.4)\n",
            "Building wheels for collected packages: fasttext\n",
            "  Building wheel for fasttext (setup.py): started\n",
            "  Building wheel for fasttext (setup.py): finished with status 'done'\n",
            "  Created wheel for fasttext: filename=fasttext-0.9.2-cp310-cp310-linux_x86_64.whl size=4199674 sha256=5f7248696d58dfe8954f2dc1ad99a226db86a37cdc50f12477d4e746df56f9d1\n",
            "  Stored in directory: /root/.cache/pip/wheels/a5/13/75/f811c84a8ab36eedbaef977a6a58a98990e8e0f1967f98f394\n",
            "Successfully built fasttext\n",
            "Installing collected packages: pybind11, fasttext\n",
            "Successfully installed fasttext-0.9.2 pybind11-2.11.1\n"
          ]
        }
      ],
      "source": [
        "%%bash\n",
        "pip3 install fasttext"
      ]
    },
    {
      "cell_type": "code",
      "execution_count": 3,
      "metadata": {
        "id": "wG0f89rVhFhY"
      },
      "outputs": [],
      "source": [
        "import numpy as np\n",
        "import pandas as pd\n",
        "import sklearn\n",
        "from sklearn import metrics\n",
        "import fasttext"
      ]
    },
    {
      "cell_type": "code",
      "execution_count": 6,
      "metadata": {
        "id": "3hpv9c6zhKnN",
        "colab": {
          "base_uri": "https://localhost:8080/"
        },
        "outputId": "3e086b61-233f-4721-a1b8-a62f7df49601"
      },
      "outputs": [
        {
          "output_type": "stream",
          "name": "stdout",
          "text": [
            "Copying gs://cil_2023/train_pos_full_preprocessed_without_duplicates.txt...\n",
            "-\n",
            "Operation completed over 1 objects/74.6 MiB.                                     \n",
            "Copying gs://cil_2023/train_neg_full_preprocessed_without_duplicates.txt...\n",
            "- [1 files][ 91.6 MiB/ 91.6 MiB]                                                \n",
            "Operation completed over 1 objects/91.6 MiB.                                     \n"
          ]
        }
      ],
      "source": [
        "!gsutil cp \"gs://cil_2023/train_pos_full_preprocessed_without_duplicates.txt\" .\n",
        "!gsutil cp \"gs://cil_2023/train_neg_full_preprocessed_without_duplicates.txt\" .\n",
        "\n",
        "filename_train_pos = \"train_pos_full_preprocessed_without_duplicates.txt\"\n",
        "filename_train_neg = \"train_neg_full_preprocessed_without_duplicates.txt\""
      ]
    },
    {
      "cell_type": "code",
      "execution_count": 7,
      "metadata": {
        "id": "tcWhRsqihLyl",
        "colab": {
          "base_uri": "https://localhost:8080/"
        },
        "outputId": "199be897-fd86-4683-884b-a0419ed0aac0"
      },
      "outputs": [
        {
          "output_type": "stream",
          "name": "stderr",
          "text": [
            "<ipython-input-7-d0d7145b8249>:2: ParserWarning: Falling back to the 'python' engine because the 'c' engine does not support regex separators (separators > 1 char and different from '\\s+' are interpreted as regex); you can avoid this warning by specifying engine='python'.\n",
            "  dataset_pos_pd = pd.read_table(filename_train_pos, sep='\\r\\n', header=None, names=['text'])\n",
            "<ipython-input-7-d0d7145b8249>:3: ParserWarning: Falling back to the 'python' engine because the 'c' engine does not support regex separators (separators > 1 char and different from '\\s+' are interpreted as regex); you can avoid this warning by specifying engine='python'.\n",
            "  dataset_neg_pd = pd.read_table(filename_train_neg, sep='\\r\\n', header=None, names=['text'])\n"
          ]
        }
      ],
      "source": [
        "# read dataset\n",
        "dataset_pos_pd = pd.read_table(filename_train_pos, sep='\\r\\n', header=None, names=['text'])\n",
        "dataset_neg_pd = pd.read_table(filename_train_neg, sep='\\r\\n', header=None, names=['text'])\n",
        "dataset_pos_pd['label'] = \"__label__positive\"\n",
        "dataset_neg_pd['label'] = \"__label__negative\"\n",
        "dataset_pd = pd.concat([dataset_pos_pd, dataset_neg_pd])\n",
        "\n",
        "# shuffle\n",
        "dataset_pd = dataset_pd.sample(frac=1, random_state=0).reset_index(drop=True)"
      ]
    },
    {
      "cell_type": "code",
      "execution_count": 8,
      "metadata": {
        "id": "nWBzon4HipoC"
      },
      "outputs": [],
      "source": [
        "N = len(dataset_pd)\n",
        "val_data_size = int(0.1 * len(dataset_pd.index))\n",
        "test_data_size = int(0.1 * len(dataset_pd.index))\n",
        "\n",
        "dataset_train = dataset_pd[:N - val_data_size - test_data_size]\n",
        "dataset_test = dataset_pd[N - test_data_size:]\n",
        "\n",
        "# fasttext\n",
        "np.savetxt(r'data.train.txt', dataset_train.values, fmt='%s')\n",
        "np.savetxt(r'data.test.txt', dataset_test.values, fmt='%s')"
      ]
    },
    {
      "cell_type": "code",
      "execution_count": 73,
      "metadata": {
        "colab": {
          "base_uri": "https://localhost:8080/"
        },
        "id": "Ejwm0b4shQ4d",
        "outputId": "8f41f9f3-4c84-4526-e55a-0e8b1b183e45"
      },
      "outputs": [
        {
          "output_type": "stream",
          "name": "stdout",
          "text": [
            "Accuracy: 0.8283173523724789\n"
          ]
        }
      ],
      "source": [
        "model = fasttext.train_supervised('data.train.txt')\n",
        "_, accuracy, _ = model.test('data.test.txt')\n",
        "print(\"Accuracy: {}\".format(accuracy))"
      ]
    },
    {
      "cell_type": "markdown",
      "source": [
        "# Evaluate Model"
      ],
      "metadata": {
        "id": "qMT-pqXtCHSR"
      }
    },
    {
      "cell_type": "code",
      "source": [
        "test_in = dataset_test[\"text\"].tolist()\n",
        "\n",
        "fasttext_labels = np.array(dataset_test[\"label\"].tolist())\n",
        "labels = np.zeros_like(fasttext_labels, dtype=float)\n",
        "labels[fasttext_labels == '__label__negative'] = 1\n",
        "labels[fasttext_labels == '__label__positive'] = 0\n",
        "\n",
        "output = model.predict(test_in)"
      ],
      "metadata": {
        "id": "xGRO0oGJA0ae"
      },
      "execution_count": 74,
      "outputs": []
    },
    {
      "cell_type": "code",
      "source": [
        "model_str = np.array(output[0]).squeeze()\n",
        "model_conf = np.array(output[1]).squeeze()\n",
        "\n",
        "preds = []\n",
        "for i in range(len(model_str)):\n",
        "  if model_str[i] == '__label__positive':\n",
        "    preds.append([model_conf[i], 1 - model_conf[i]])\n",
        "  else:\n",
        "    preds.append([1 - model_conf[i], model_conf[i]])\n",
        "\n",
        "preds = np.array(preds)"
      ],
      "metadata": {
        "id": "UOpI1v8AA4PG"
      },
      "execution_count": 75,
      "outputs": []
    },
    {
      "cell_type": "markdown",
      "source": [
        "## Model calibration"
      ],
      "metadata": {
        "id": "Ikm2X9PhIPNp"
      }
    },
    {
      "cell_type": "code",
      "source": [
        "def get_calibration_vecs(num_buckets, labels, confidences):\n",
        "  \"\"\"\n",
        "  create vectors required for calibration\n",
        "\n",
        "  args:\n",
        "  num_buckets (int) : number of buckets to create\n",
        "  labels (np.array) : 1-D labels of data (0 for the confidence vector passed, 1 else)\n",
        "  confidences (np.array) : 1-D confidences of model of one class\n",
        "\n",
        "  returns: corr_frac, conf_frac, num_in_bucket\n",
        "    corr_frac (np.array) : fraction of correct preds in buckets\n",
        "    conf_frac (np.array) : mean confidence in each bucket\n",
        "    num_in_bucket (np.array) : number of samples in each bucket\n",
        "\n",
        "  \"\"\"\n",
        "  positives = 1 - labels\n",
        "  pos_confidences = confidences\n",
        "  corr_frac = []\n",
        "  conf_frac = []\n",
        "  num_in_bucket = []\n",
        "\n",
        "  for i in range(NUM_BUCKETS):\n",
        "    mask = np.logical_and(pos_confidences >= i/NUM_BUCKETS, pos_confidences < (i+1)/NUM_BUCKETS)\n",
        "    corr_frac.append(np.mean(positives[mask]))\n",
        "    conf_frac.append(np.mean(pos_confidences[mask]))\n",
        "    num_in_bucket.append(pos_confidences[mask].shape[0])\n",
        "\n",
        "\n",
        "  corr_frac = np.array(corr_frac)\n",
        "  conf_frac = np.array(conf_frac)\n",
        "  num_in_bucket = np.array(num_in_bucket)\n",
        "\n",
        "\n",
        "  return corr_frac, conf_frac, num_in_bucket\n"
      ],
      "metadata": {
        "id": "MSr2a_mgIkWR"
      },
      "execution_count": 76,
      "outputs": []
    },
    {
      "cell_type": "code",
      "source": [
        "NUM_BUCKETS = 20\n",
        "pos_preds = preds[:,0]"
      ],
      "metadata": {
        "id": "Yj6zy2wtIn44"
      },
      "execution_count": 77,
      "outputs": []
    },
    {
      "cell_type": "code",
      "source": [
        "import matplotlib.pyplot as plt\n",
        "\n",
        "corr_frac, conf_frac, num_in_bucket = get_calibration_vecs(NUM_BUCKETS, labels, pos_preds)\n",
        "\n",
        "\n",
        "# plt.plot(np.linspace(1/(2*NUM_BUCKETS), 1-1/(2*NUM_BUCKETS), NUM_BUCKETS), corr_frac, '-o')\n",
        "plt.plot(conf_frac, corr_frac, '-x')\n",
        "plt.plot(np.array([0, 1]), np.array([0, 1]), \"--\", linewidth=0.7)\n",
        "plt.xlim((0, 1))\n",
        "plt.ylim((0, 1))\n",
        "plt.show()"
      ],
      "metadata": {
        "colab": {
          "base_uri": "https://localhost:8080/",
          "height": 435
        },
        "id": "tQgBHrL-Ipzo",
        "outputId": "63da03f7-afde-46e9-c3d5-e3c9ade37465"
      },
      "execution_count": 78,
      "outputs": [
        {
          "output_type": "display_data",
          "data": {
            "text/plain": [
              "<Figure size 640x480 with 1 Axes>"
            ],
            "image/png": "[encoded data removed]"
          },
          "metadata": {}
        }
      ]
    },
    {
      "cell_type": "code",
      "source": [
        "# expected calibration error\n",
        "ece = (1/np.sum(num_in_bucket)) * np.sum(num_in_bucket * np.abs(corr_frac - conf_frac))\n",
        "\n",
        "# max calibration error\n",
        "mce = np.max(np.abs(corr_frac - conf_frac))\n",
        "\n",
        "print(f\"ECE: {ece:.6f}\")\n",
        "print(f\"MCE: {mce:.6f}\")"
      ],
      "metadata": {
        "colab": {
          "base_uri": "https://localhost:8080/"
        },
        "id": "s6XBj4ZgIrfB",
        "outputId": "05c7927c-e5bd-48fd-d592-168f123fe931"
      },
      "execution_count": 72,
      "outputs": [
        {
          "output_type": "stream",
          "name": "stdout",
          "text": [
            "ECE: 0.008712\n",
            "MCE: 0.019791\n"
          ]
        }
      ]
    },
    {
      "cell_type": "markdown",
      "source": [
        "## Accuracy"
      ],
      "metadata": {
        "id": "GxFwx9aoJoDH"
      }
    },
    {
      "cell_type": "code",
      "source": [],
      "metadata": {
        "id": "uBSovdGcJpdH"
      },
      "execution_count": null,
      "outputs": []
    }
  ],
  "metadata": {
    "accelerator": "GPU",
    "colab": {
      "machine_shape": "hm",
      "provenance": []
    },
    "kernelspec": {
      "display_name": "Python 3",
      "name": "python3"
    },
    "language_info": {
      "name": "python"
    }
  },
  "nbformat": 4,
  "nbformat_minor": 0
}